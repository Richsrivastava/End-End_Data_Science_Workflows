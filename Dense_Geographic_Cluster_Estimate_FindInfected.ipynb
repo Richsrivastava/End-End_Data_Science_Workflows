{
  "nbformat": 4,
  "nbformat_minor": 0,
  "metadata": {
    "colab": {
      "provenance": [],
      "gpuType": "T4"
    },
    "kernelspec": {
      "name": "python3",
      "display_name": "Python 3"
    },
    "language_info": {
      "name": "python"
    },
    "accelerator": "GPU"
  },
  "cells": [
    {
      "cell_type": "code",
      "execution_count": null,
      "metadata": {
        "id": "n5Aw4FvEeEX3"
      },
      "outputs": [],
      "source": [
        "!pip install cupy-cuda12x --upgrade\n",
        "%reload_ext cudf.pandas\n",
        "import pandas as pd\n",
        "import cuml\n",
        "\n",
        "import cupy as cp"
      ]
    },
    {
      "cell_type": "code",
      "source": [
        "# load google drive folder to check if data file is available\n",
        "#from google.colab import drive\n",
        "#drive.mount('/content/drive')\n",
        "#!ls \"/content/drive/My Drive/Colab Notebooks\""
      ],
      "metadata": {
        "id": "_fA9Js6hpVJS"
      },
      "execution_count": null,
      "outputs": []
    },
    {
      "cell_type": "code",
      "source": [
        "# load data about week 1 of the outbreak into a cuDF-accelerated pandas DataFrame. Only need the 'lat', 'long', and 'infected' columns.\n",
        "df = pd.read_csv(\"/content/drive/My Drive/Colab Notebooks/week1.csv\", usecols=[\"lat\", \"long\", \"infected\"])\n",
        "df"
      ],
      "metadata": {
        "id": "24toudkgfEWW"
      },
      "execution_count": null,
      "outputs": []
    },
    {
      "cell_type": "code",
      "source": [
        "#Make new DataFrame that contains only the infected members of the population\n",
        "infected_df = df[df['infected']== 1]\n",
        "infected_df = infected_df.reset_index(drop=True)\n",
        "infected_df.head()\n",
        "#infected_df.shape"
      ],
      "metadata": {
        "id": "LdOb7B32qUPt"
      },
      "execution_count": null,
      "outputs": []
    },
    {
      "cell_type": "code",
      "source": [
        "# lat/long to OSGB36 grid coordinates converter\n",
        "\n",
        "def latlong2osgbgrid_cupy(lat, long, input_degrees=True):\n",
        "    '''\n",
        "    Converts latitude and longitude (ellipsoidal) coordinates into northing and easting (grid) coordinates, using a Transverse Mercator projection.\n",
        "\n",
        "    Inputs:\n",
        "    lat: latitude coordinate (N)\n",
        "    long: longitude coordinate (E)\n",
        "    input_degrees: if True (default), interprets the coordinates as degrees; otherwise, interprets coordinates as radians\n",
        "\n",
        "    Output:\n",
        "    (northing, easting)\n",
        "    '''\n",
        "\n",
        "    if input_degrees:\n",
        "        lat = lat * cp.pi/180\n",
        "        long = long * cp.pi/180\n",
        "\n",
        "    a = 6377563.396\n",
        "    b = 6356256.909\n",
        "    e2 = (a**2 - b**2) / a**2\n",
        "\n",
        "    N0 = -100000 # northing of true origin\n",
        "    E0 = 400000 # easting of true origin\n",
        "    F0 = .9996012717 # scale factor on central meridian\n",
        "    phi0 = 49 * cp.pi / 180 # latitude of true origin\n",
        "    lambda0 = -2 * cp.pi / 180 # longitude of true origin and central meridian\n",
        "\n",
        "    sinlat = cp.sin(lat)\n",
        "    coslat = cp.cos(lat)\n",
        "    tanlat = cp.tan(lat)\n",
        "\n",
        "    latdiff = lat-phi0\n",
        "    longdiff = long-lambda0\n",
        "\n",
        "    n = (a-b) / (a+b)\n",
        "    nu = a * F0 * (1 - e2 * sinlat ** 2) ** -.5\n",
        "    rho = a * F0 * (1 - e2) * (1 - e2 * sinlat ** 2) ** -1.5\n",
        "    eta2 = nu / rho - 1\n",
        "    M = b * F0 * ((1 + n + 5/4 * (n**2 + n**3)) * latdiff -\n",
        "                  (3*(n+n**2) + 21/8 * n**3) * cp.sin(latdiff) * cp.cos(lat+phi0) +\n",
        "                  15/8 * (n**2 + n**3) * cp.sin(2*(latdiff)) * cp.cos(2*(lat+phi0)) -\n",
        "                  35/24 * n**3 * cp.sin(3*(latdiff)) * cp.cos(3*(lat+phi0)))\n",
        "    I = M + N0\n",
        "    II = nu/2 * sinlat * coslat\n",
        "    III = nu/24 * sinlat * coslat ** 3 * (5 - tanlat ** 2 + 9 * eta2)\n",
        "    IIIA = nu/720 * sinlat * coslat ** 5 * (61-58 * tanlat**2 + tanlat**4)\n",
        "    IV = nu * coslat\n",
        "    V = nu / 6 * coslat**3 * (nu/rho - cp.tan(lat)**2)\n",
        "    VI = nu / 120 * coslat ** 5 * (5 - 18 * tanlat**2 + tanlat**4 + 14 * eta2 - 58 * tanlat**2 * eta2)\n",
        "\n",
        "    northing = I + II * longdiff**2 + III * longdiff**4 + IIIA * longdiff**6\n",
        "    easting = E0 + IV * longdiff + V * longdiff**3 + VI * longdiff**5\n",
        "\n",
        "    return(northing, easting)"
      ],
      "metadata": {
        "id": "2EY19P1Qqbjq"
      },
      "execution_count": null,
      "outputs": []
    },
    {
      "cell_type": "code",
      "source": [],
      "metadata": {
        "id": "d-sj4NQudihZ"
      },
      "execution_count": null,
      "outputs": []
    },
    {
      "cell_type": "code",
      "source": [
        "# Use above converter to create grid coordinate values stored in northing and easting columns of the infected_df\n",
        "cupy_lat = cp.asarray(infected_df['lat'])\n",
        "cupy_long = cp.asarray(infected_df['long'])\n",
        "\n",
        "infected_df['northing'], infected_df['easting'] = latlong2osgbgrid_cupy(cupy_lat, cupy_long,input_degrees=True )\n",
        "infected_df"
      ],
      "metadata": {
        "id": "D5XOGdSvqieJ"
      },
      "execution_count": null,
      "outputs": []
    },
    {
      "cell_type": "code",
      "source": [
        "# Use DBSCAN to find clusters of at least 25 infected people where no member is more than 2000m from at least one other cluster member.\n",
        "dbscan = cuml.DBSCAN(eps=2000, min_samples=25)\n",
        "infected_df['cluster'] = dbscan.fit_predict(infected_df[['northing', 'easting']])\n",
        "infected_df"
      ],
      "metadata": {
        "id": "hdnopYb9-ewU"
      },
      "execution_count": null,
      "outputs": []
    },
    {
      "cell_type": "code",
      "source": [
        "# Find centroid of each cluster\n",
        "centroids_df = infected_df[['northing', 'easting', 'cluster']].groupby('cluster')[['northing', 'easting']].mean()\n",
        "centroids_df"
      ],
      "metadata": {
        "id": "8No5lRPq-pUz"
      },
      "execution_count": null,
      "outputs": []
    },
    {
      "cell_type": "code",
      "source": [
        "# find the number of people in each cluster by counting the number of appearances of eah cluster's label in the column produced by DBSCAN\n",
        "centroids_df['count'] = infected_df['cluster'].value_counts()\n",
        "centroids_df"
      ],
      "metadata": {
        "id": "awOP-jChBnXl"
      },
      "execution_count": null,
      "outputs": []
    },
    {
      "cell_type": "code",
      "source": [
        "# Find the Centroid of the Cluster with the Most Members and write the answer to my_assessment/question_1.json.\n",
        "\n",
        "centroids_df.loc[centroids_df['count'].idxmax()][['northing', 'easting']].to_json('question_1.json')"
      ],
      "metadata": {
        "id": "dDbkXmkAQhbs"
      },
      "execution_count": null,
      "outputs": []
    },
    {
      "cell_type": "code",
      "source": [
        "#check submission\n",
        "!cat question_1.json"
      ],
      "metadata": {
        "id": "GsW6dXuxRHE4"
      },
      "execution_count": null,
      "outputs": []
    }
  ]
}