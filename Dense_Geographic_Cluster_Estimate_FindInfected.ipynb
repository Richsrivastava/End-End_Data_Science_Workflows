{
  "nbformat": 4,
  "nbformat_minor": 0,
  "metadata": {
    "colab": {
      "provenance": [],
      "gpuType": "T4",
      "authorship_tag": "ABX9TyPlynULn3zE36vvxjVWcfKI",
      "include_colab_link": true
    },
    "kernelspec": {
      "name": "python3",
      "display_name": "Python 3"
    },
    "language_info": {
      "name": "python"
    },
    "accelerator": "GPU"
  },
  "cells": [
    {
      "cell_type": "markdown",
      "metadata": {
        "id": "view-in-github",
        "colab_type": "text"
      },
      "source": [
        "<a href=\"https://colab.research.google.com/github/Richsrivastava/End-End_Data_Science_Workflows/blob/main/Dense_Geographic_Cluster_Estimate_FindInfected.ipynb\" target=\"_parent\"><img src=\"https://colab.research.google.com/assets/colab-badge.svg\" alt=\"Open In Colab\"/></a>"
      ]
    },
    {
      "cell_type": "code",
      "execution_count": 2,
      "metadata": {
        "colab": {
          "base_uri": "https://localhost:8080/"
        },
        "id": "n5Aw4FvEeEX3",
        "outputId": "5a5bd36c-a16d-478f-ece5-ed1a8d5d6ed5"
      },
      "outputs": [
        {
          "output_type": "stream",
          "name": "stdout",
          "text": [
            "Requirement already satisfied: cupy-cuda12x in /usr/local/lib/python3.11/dist-packages (13.5.1)\n",
            "Requirement already satisfied: numpy<2.6,>=1.22 in /usr/local/lib/python3.11/dist-packages (from cupy-cuda12x) (2.0.2)\n",
            "Requirement already satisfied: fastrlock>=0.5 in /usr/local/lib/python3.11/dist-packages (from cupy-cuda12x) (0.8.3)\n"
          ]
        },
        {
          "output_type": "stream",
          "name": "stderr",
          "text": [
            "/usr/local/lib/python3.11/dist-packages/cudf/utils/gpu_utils.py:75: UserWarning: Failed to dlopen libcuda.so.1\n",
            "  warnings.warn(str(e))\n",
            "/usr/local/lib/python3.11/dist-packages/cudf/pandas/__init__.py:64: UserWarning: Function \"cuInit\" not found\n",
            "  warnings.warn(str(e))\n"
          ]
        }
      ],
      "source": [
        "!pip install cupy-cuda12x --upgrade\n",
        "%reload_ext cudf.pandas\n",
        "import pandas as pd\n",
        "import cuml\n",
        "\n",
        "import cupy as cp"
      ]
    },
    {
      "cell_type": "code",
      "source": [
        "# load google drive folder to check if data file is available\n",
        "#from google.colab import drive\n",
        "#drive.mount('/content/drive')\n",
        "#!ls \"/content/drive/My Drive/Colab Notebooks\""
      ],
      "metadata": {
        "id": "_fA9Js6hpVJS"
      },
      "execution_count": 3,
      "outputs": []
    },
    {
      "cell_type": "code",
      "source": [
        "# load data about week 1 of the outbreak into a cuDF-accelerated pandas DataFrame. Only need the 'lat', 'long', and 'infected' columns.\n",
        "df = pd.read_csv(\"/content/drive/My Drive/Colab Notebooks/week1.csv\", usecols=[\"lat\", \"long\", \"infected\"])\n",
        "df"
      ],
      "metadata": {
        "colab": {
          "base_uri": "https://localhost:8080/",
          "height": 424
        },
        "id": "24toudkgfEWW",
        "outputId": "e4adc668-ee56-4fcc-b3a8-c0f71948a379"
      },
      "execution_count": 3,
      "outputs": [
        {
          "output_type": "execute_result",
          "data": {
            "text/plain": [
              "                lat      long  infected\n",
              "0         54.522510 -1.571896     False\n",
              "1         54.554030 -1.524968     False\n",
              "2         54.552486 -1.435203     False\n",
              "3         54.537189 -1.566215     False\n",
              "4         54.528212 -1.588462     False\n",
              "...             ...       ...       ...\n",
              "58479889  51.634416 -2.925863     False\n",
              "58479890  51.556972 -3.036290     False\n",
              "58479891  51.588992 -2.921915     False\n",
              "58479892  51.590974 -2.954539     False\n",
              "58479893  51.576716 -2.952142     False\n",
              "\n",
              "[58479894 rows x 3 columns]"
            ],
            "text/html": [
              "<div>\n",
              "<style scoped>\n",
              "    .dataframe tbody tr th:only-of-type {\n",
              "        vertical-align: middle;\n",
              "    }\n",
              "\n",
              "    .dataframe tbody tr th {\n",
              "        vertical-align: top;\n",
              "    }\n",
              "\n",
              "    .dataframe thead th {\n",
              "        text-align: right;\n",
              "    }\n",
              "</style>\n",
              "<table border=\"1\" class=\"dataframe\">\n",
              "  <thead>\n",
              "    <tr style=\"text-align: right;\">\n",
              "      <th></th>\n",
              "      <th>lat</th>\n",
              "      <th>long</th>\n",
              "      <th>infected</th>\n",
              "    </tr>\n",
              "  </thead>\n",
              "  <tbody>\n",
              "    <tr>\n",
              "      <th>0</th>\n",
              "      <td>54.522510</td>\n",
              "      <td>-1.571896</td>\n",
              "      <td>False</td>\n",
              "    </tr>\n",
              "    <tr>\n",
              "      <th>1</th>\n",
              "      <td>54.554030</td>\n",
              "      <td>-1.524968</td>\n",
              "      <td>False</td>\n",
              "    </tr>\n",
              "    <tr>\n",
              "      <th>2</th>\n",
              "      <td>54.552486</td>\n",
              "      <td>-1.435203</td>\n",
              "      <td>False</td>\n",
              "    </tr>\n",
              "    <tr>\n",
              "      <th>3</th>\n",
              "      <td>54.537189</td>\n",
              "      <td>-1.566215</td>\n",
              "      <td>False</td>\n",
              "    </tr>\n",
              "    <tr>\n",
              "      <th>4</th>\n",
              "      <td>54.528212</td>\n",
              "      <td>-1.588462</td>\n",
              "      <td>False</td>\n",
              "    </tr>\n",
              "    <tr>\n",
              "      <th>...</th>\n",
              "      <td>...</td>\n",
              "      <td>...</td>\n",
              "      <td>...</td>\n",
              "    </tr>\n",
              "    <tr>\n",
              "      <th>58479889</th>\n",
              "      <td>51.634416</td>\n",
              "      <td>-2.925863</td>\n",
              "      <td>False</td>\n",
              "    </tr>\n",
              "    <tr>\n",
              "      <th>58479890</th>\n",
              "      <td>51.556972</td>\n",
              "      <td>-3.036290</td>\n",
              "      <td>False</td>\n",
              "    </tr>\n",
              "    <tr>\n",
              "      <th>58479891</th>\n",
              "      <td>51.588992</td>\n",
              "      <td>-2.921915</td>\n",
              "      <td>False</td>\n",
              "    </tr>\n",
              "    <tr>\n",
              "      <th>58479892</th>\n",
              "      <td>51.590974</td>\n",
              "      <td>-2.954539</td>\n",
              "      <td>False</td>\n",
              "    </tr>\n",
              "    <tr>\n",
              "      <th>58479893</th>\n",
              "      <td>51.576716</td>\n",
              "      <td>-2.952142</td>\n",
              "      <td>False</td>\n",
              "    </tr>\n",
              "  </tbody>\n",
              "</table>\n",
              "<p>58479894 rows × 3 columns</p>\n",
              "</div>"
            ],
            "application/vnd.google.colaboratory.intrinsic+json": {
              "type": "dataframe",
              "variable_name": "df"
            }
          },
          "metadata": {},
          "execution_count": 3
        }
      ]
    },
    {
      "cell_type": "code",
      "source": [
        "#Make new DataFrame that contains only the infected members of the population\n",
        "infected_df = df[df['infected']== 1]\n",
        "infected_df = infected_df.reset_index(drop=True)\n",
        "infected_df.head()\n",
        "#infected_df.shape"
      ],
      "metadata": {
        "colab": {
          "base_uri": "https://localhost:8080/",
          "height": 206
        },
        "id": "LdOb7B32qUPt",
        "outputId": "63cd7af9-eba0-457c-dcd7-b0e051a07504"
      },
      "execution_count": 4,
      "outputs": [
        {
          "output_type": "execute_result",
          "data": {
            "text/plain": [
              "         lat      long  infected\n",
              "0  54.472766 -1.654932      True\n",
              "1  54.529717 -1.667143      True\n",
              "2  54.512986 -1.589866      True\n",
              "3  54.522322 -1.380694      True\n",
              "4  54.541660 -1.613490      True"
            ],
            "text/html": [
              "<div>\n",
              "<style scoped>\n",
              "    .dataframe tbody tr th:only-of-type {\n",
              "        vertical-align: middle;\n",
              "    }\n",
              "\n",
              "    .dataframe tbody tr th {\n",
              "        vertical-align: top;\n",
              "    }\n",
              "\n",
              "    .dataframe thead th {\n",
              "        text-align: right;\n",
              "    }\n",
              "</style>\n",
              "<table border=\"1\" class=\"dataframe\">\n",
              "  <thead>\n",
              "    <tr style=\"text-align: right;\">\n",
              "      <th></th>\n",
              "      <th>lat</th>\n",
              "      <th>long</th>\n",
              "      <th>infected</th>\n",
              "    </tr>\n",
              "  </thead>\n",
              "  <tbody>\n",
              "    <tr>\n",
              "      <th>0</th>\n",
              "      <td>54.472766</td>\n",
              "      <td>-1.654932</td>\n",
              "      <td>True</td>\n",
              "    </tr>\n",
              "    <tr>\n",
              "      <th>1</th>\n",
              "      <td>54.529717</td>\n",
              "      <td>-1.667143</td>\n",
              "      <td>True</td>\n",
              "    </tr>\n",
              "    <tr>\n",
              "      <th>2</th>\n",
              "      <td>54.512986</td>\n",
              "      <td>-1.589866</td>\n",
              "      <td>True</td>\n",
              "    </tr>\n",
              "    <tr>\n",
              "      <th>3</th>\n",
              "      <td>54.522322</td>\n",
              "      <td>-1.380694</td>\n",
              "      <td>True</td>\n",
              "    </tr>\n",
              "    <tr>\n",
              "      <th>4</th>\n",
              "      <td>54.541660</td>\n",
              "      <td>-1.613490</td>\n",
              "      <td>True</td>\n",
              "    </tr>\n",
              "  </tbody>\n",
              "</table>\n",
              "</div>"
            ],
            "application/vnd.google.colaboratory.intrinsic+json": {
              "type": "dataframe",
              "summary": "{\n  \"name\": \"#infected_df\",\n  \"rows\": 5,\n  \"fields\": [\n    {\n      \"column\": \"lat\",\n      \"properties\": {\n        \"dtype\": \"number\",\n        \"std\": 0.02629066284376124,\n        \"min\": 54.47276563,\n        \"max\": 54.54165986,\n        \"num_unique_values\": 5,\n        \"samples\": [\n          54.5297174,\n          54.54165986,\n          54.5129859\n        ],\n        \"semantic_type\": \"\",\n        \"description\": \"\"\n      }\n    },\n    {\n      \"column\": \"long\",\n      \"properties\": {\n        \"dtype\": \"number\",\n        \"std\": 0.11634349248806992,\n        \"min\": -1.667143302,\n        \"max\": -1.380693755,\n        \"num_unique_values\": 5,\n        \"samples\": [\n          -1.667143302,\n          -1.613490492,\n          -1.589865563\n        ],\n        \"semantic_type\": \"\",\n        \"description\": \"\"\n      }\n    },\n    {\n      \"column\": \"infected\",\n      \"properties\": {\n        \"dtype\": \"boolean\",\n        \"num_unique_values\": 1,\n        \"samples\": [\n          true\n        ],\n        \"semantic_type\": \"\",\n        \"description\": \"\"\n      }\n    }\n  ]\n}"
            }
          },
          "metadata": {},
          "execution_count": 4
        }
      ]
    },
    {
      "cell_type": "code",
      "source": [
        "# lat/long to OSGB36 grid coordinates converter\n",
        "\n",
        "def latlong2osgbgrid_cupy(lat, long, input_degrees=True):\n",
        "    '''\n",
        "    Converts latitude and longitude (ellipsoidal) coordinates into northing and easting (grid) coordinates, using a Transverse Mercator projection.\n",
        "\n",
        "    Inputs:\n",
        "    lat: latitude coordinate (N)\n",
        "    long: longitude coordinate (E)\n",
        "    input_degrees: if True (default), interprets the coordinates as degrees; otherwise, interprets coordinates as radians\n",
        "\n",
        "    Output:\n",
        "    (northing, easting)\n",
        "    '''\n",
        "\n",
        "    if input_degrees:\n",
        "        lat = lat * cp.pi/180\n",
        "        long = long * cp.pi/180\n",
        "\n",
        "    a = 6377563.396\n",
        "    b = 6356256.909\n",
        "    e2 = (a**2 - b**2) / a**2\n",
        "\n",
        "    N0 = -100000 # northing of true origin\n",
        "    E0 = 400000 # easting of true origin\n",
        "    F0 = .9996012717 # scale factor on central meridian\n",
        "    phi0 = 49 * cp.pi / 180 # latitude of true origin\n",
        "    lambda0 = -2 * cp.pi / 180 # longitude of true origin and central meridian\n",
        "\n",
        "    sinlat = cp.sin(lat)\n",
        "    coslat = cp.cos(lat)\n",
        "    tanlat = cp.tan(lat)\n",
        "\n",
        "    latdiff = lat-phi0\n",
        "    longdiff = long-lambda0\n",
        "\n",
        "    n = (a-b) / (a+b)\n",
        "    nu = a * F0 * (1 - e2 * sinlat ** 2) ** -.5\n",
        "    rho = a * F0 * (1 - e2) * (1 - e2 * sinlat ** 2) ** -1.5\n",
        "    eta2 = nu / rho - 1\n",
        "    M = b * F0 * ((1 + n + 5/4 * (n**2 + n**3)) * latdiff -\n",
        "                  (3*(n+n**2) + 21/8 * n**3) * cp.sin(latdiff) * cp.cos(lat+phi0) +\n",
        "                  15/8 * (n**2 + n**3) * cp.sin(2*(latdiff)) * cp.cos(2*(lat+phi0)) -\n",
        "                  35/24 * n**3 * cp.sin(3*(latdiff)) * cp.cos(3*(lat+phi0)))\n",
        "    I = M + N0\n",
        "    II = nu/2 * sinlat * coslat\n",
        "    III = nu/24 * sinlat * coslat ** 3 * (5 - tanlat ** 2 + 9 * eta2)\n",
        "    IIIA = nu/720 * sinlat * coslat ** 5 * (61-58 * tanlat**2 + tanlat**4)\n",
        "    IV = nu * coslat\n",
        "    V = nu / 6 * coslat**3 * (nu/rho - cp.tan(lat)**2)\n",
        "    VI = nu / 120 * coslat ** 5 * (5 - 18 * tanlat**2 + tanlat**4 + 14 * eta2 - 58 * tanlat**2 * eta2)\n",
        "\n",
        "    northing = I + II * longdiff**2 + III * longdiff**4 + IIIA * longdiff**6\n",
        "    easting = E0 + IV * longdiff + V * longdiff**3 + VI * longdiff**5\n",
        "\n",
        "    return(northing, easting)"
      ],
      "metadata": {
        "id": "2EY19P1Qqbjq"
      },
      "execution_count": 5,
      "outputs": []
    },
    {
      "cell_type": "code",
      "source": [
        "# Use above converter to create grid coordinate values stored in northing and easting columns of the infected_df\n",
        "cupy_lat = cp.asarray(infected_df['lat'])\n",
        "cupy_long = cp.asarray(infected_df['long'])\n",
        "\n",
        "infected_df['northing'], infected_df['easting'] = latlong2osgbgrid_cupy(cupy_lat, cupy_long,input_degrees=True )\n",
        "infected_df"
      ],
      "metadata": {
        "colab": {
          "base_uri": "https://localhost:8080/",
          "height": 645
        },
        "id": "D5XOGdSvqieJ",
        "outputId": "ca641fe2-b6ee-4392-b1b7-304c42703227"
      },
      "execution_count": 6,
      "outputs": [
        {
          "output_type": "error",
          "ename": "CUDARuntimeError",
          "evalue": "cudaErrorInsufficientDriver: CUDA driver version is insufficient for CUDA runtime version",
          "traceback": [
            "\u001b[0;31m---------------------------------------------------------------------------\u001b[0m",
            "\u001b[0;31mCUDARuntimeError\u001b[0m                          Traceback (most recent call last)",
            "\u001b[0;32m/tmp/ipython-input-6-1157608289.py\u001b[0m in \u001b[0;36m<cell line: 0>\u001b[0;34m()\u001b[0m\n\u001b[1;32m      1\u001b[0m \u001b[0;31m# Use above converter to create grid coordinate values stored in northing and easting columns of the infected_df\u001b[0m\u001b[0;34m\u001b[0m\u001b[0;34m\u001b[0m\u001b[0m\n\u001b[0;32m----> 2\u001b[0;31m \u001b[0mcupy_lat\u001b[0m \u001b[0;34m=\u001b[0m \u001b[0mcp\u001b[0m\u001b[0;34m.\u001b[0m\u001b[0masarray\u001b[0m\u001b[0;34m(\u001b[0m\u001b[0minfected_df\u001b[0m\u001b[0;34m[\u001b[0m\u001b[0;34m'lat'\u001b[0m\u001b[0;34m]\u001b[0m\u001b[0;34m)\u001b[0m\u001b[0;34m\u001b[0m\u001b[0;34m\u001b[0m\u001b[0m\n\u001b[0m\u001b[1;32m      3\u001b[0m \u001b[0mcupy_long\u001b[0m \u001b[0;34m=\u001b[0m \u001b[0mcp\u001b[0m\u001b[0;34m.\u001b[0m\u001b[0masarray\u001b[0m\u001b[0;34m(\u001b[0m\u001b[0minfected_df\u001b[0m\u001b[0;34m[\u001b[0m\u001b[0;34m'long'\u001b[0m\u001b[0;34m]\u001b[0m\u001b[0;34m)\u001b[0m\u001b[0;34m\u001b[0m\u001b[0;34m\u001b[0m\u001b[0m\n\u001b[1;32m      4\u001b[0m \u001b[0;34m\u001b[0m\u001b[0m\n\u001b[1;32m      5\u001b[0m \u001b[0minfected_df\u001b[0m\u001b[0;34m[\u001b[0m\u001b[0;34m'northing'\u001b[0m\u001b[0;34m]\u001b[0m\u001b[0;34m,\u001b[0m \u001b[0minfected_df\u001b[0m\u001b[0;34m[\u001b[0m\u001b[0;34m'easting'\u001b[0m\u001b[0;34m]\u001b[0m \u001b[0;34m=\u001b[0m \u001b[0mlatlong2osgbgrid_cupy\u001b[0m\u001b[0;34m(\u001b[0m\u001b[0mcupy_lat\u001b[0m\u001b[0;34m,\u001b[0m \u001b[0mcupy_long\u001b[0m\u001b[0;34m,\u001b[0m\u001b[0minput_degrees\u001b[0m\u001b[0;34m=\u001b[0m\u001b[0;32mTrue\u001b[0m \u001b[0;34m)\u001b[0m\u001b[0;34m\u001b[0m\u001b[0;34m\u001b[0m\u001b[0m\n",
            "\u001b[0;32m/usr/local/lib/python3.11/dist-packages/cupy/_creation/from_data.py\u001b[0m in \u001b[0;36masarray\u001b[0;34m(a, dtype, order, blocking)\u001b[0m\n\u001b[1;32m     86\u001b[0m \u001b[0;34m\u001b[0m\u001b[0m\n\u001b[1;32m     87\u001b[0m     \"\"\"\n\u001b[0;32m---> 88\u001b[0;31m     \u001b[0;32mreturn\u001b[0m \u001b[0m_core\u001b[0m\u001b[0;34m.\u001b[0m\u001b[0marray\u001b[0m\u001b[0;34m(\u001b[0m\u001b[0ma\u001b[0m\u001b[0;34m,\u001b[0m \u001b[0mdtype\u001b[0m\u001b[0;34m,\u001b[0m \u001b[0;32mFalse\u001b[0m\u001b[0;34m,\u001b[0m \u001b[0morder\u001b[0m\u001b[0;34m,\u001b[0m \u001b[0mblocking\u001b[0m\u001b[0;34m=\u001b[0m\u001b[0mblocking\u001b[0m\u001b[0;34m)\u001b[0m\u001b[0;34m\u001b[0m\u001b[0;34m\u001b[0m\u001b[0m\n\u001b[0m\u001b[1;32m     89\u001b[0m \u001b[0;34m\u001b[0m\u001b[0m\n\u001b[1;32m     90\u001b[0m \u001b[0;34m\u001b[0m\u001b[0m\n",
            "\u001b[0;32mcupy/_core/core.pyx\u001b[0m in \u001b[0;36mcupy._core.core.array\u001b[0;34m()\u001b[0m\n",
            "\u001b[0;32mcupy/_core/core.pyx\u001b[0m in \u001b[0;36mcupy._core.core.array\u001b[0;34m()\u001b[0m\n",
            "\u001b[0;32mcupy/_core/core.pyx\u001b[0m in \u001b[0;36mcupy._core.core._array_default\u001b[0;34m()\u001b[0m\n",
            "\u001b[0;32mcupy/_core/core.pyx\u001b[0m in \u001b[0;36mcupy._core.core._try_skip_h2d_copy\u001b[0;34m()\u001b[0m\n",
            "\u001b[0;32mcupy/cuda/device.pyx\u001b[0m in \u001b[0;36mcupy.cuda.device.get_device_id\u001b[0;34m()\u001b[0m\n",
            "\u001b[0;32mcupy_backends/cuda/api/runtime.pyx\u001b[0m in \u001b[0;36mcupy_backends.cuda.api.runtime.getDevice\u001b[0;34m()\u001b[0m\n",
            "\u001b[0;32mcupy_backends/cuda/api/runtime.pyx\u001b[0m in \u001b[0;36mcupy_backends.cuda.api.runtime.check_status\u001b[0;34m()\u001b[0m\n",
            "\u001b[0;31mCUDARuntimeError\u001b[0m: cudaErrorInsufficientDriver: CUDA driver version is insufficient for CUDA runtime version"
          ]
        }
      ]
    },
    {
      "cell_type": "code",
      "source": [
        "# Use DBSCAN to find clusters of at least 25 infected people where no member is more than 2000m from at least one other cluster member.\n",
        "dbscan = cuml.DBSCAN(eps=2000, min_samples=25)\n",
        "infected_df['cluster'] = dbscan.fit_predict(infected_df[['northing', 'easting']])\n",
        "infected_df"
      ],
      "metadata": {
        "id": "hdnopYb9-ewU"
      },
      "execution_count": null,
      "outputs": []
    },
    {
      "cell_type": "code",
      "source": [
        "# Find centroid of each cluster\n",
        "centroids_df = infected_df[['northing', 'easting', 'cluster']].groupby('cluster')[['northing', 'easting']].mean()\n",
        "centroids_df"
      ],
      "metadata": {
        "id": "8No5lRPq-pUz"
      },
      "execution_count": null,
      "outputs": []
    },
    {
      "cell_type": "code",
      "source": [
        "# find the number of people in each cluster by counting the number of appearances of eah cluster's label in the column produced by DBSCAN\n",
        "centroids_df['count'] = infected_df['cluster'].value_counts()\n",
        "centroids_df"
      ],
      "metadata": {
        "id": "awOP-jChBnXl"
      },
      "execution_count": null,
      "outputs": []
    },
    {
      "cell_type": "code",
      "source": [
        "# Find the Centroid of the Cluster with the Most Members and write the answer to my_assessment/question_1.json.\n",
        "\n",
        "centroids_df.loc[centroids_df['count'].idxmax()][['northing', 'easting']].to_json('question_1.json')"
      ],
      "metadata": {
        "id": "dDbkXmkAQhbs"
      },
      "execution_count": null,
      "outputs": []
    },
    {
      "cell_type": "code",
      "source": [
        "#check submission\n",
        "!cat question_1.json"
      ],
      "metadata": {
        "id": "GsW6dXuxRHE4"
      },
      "execution_count": null,
      "outputs": []
    }
  ]
}